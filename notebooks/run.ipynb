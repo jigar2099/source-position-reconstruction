{
 "cells": [
  {
   "cell_type": "code",
   "execution_count": 1,
   "id": "07b66f9a",
   "metadata": {
    "ExecuteTime": {
     "end_time": "2023-05-03T21:44:18.467781Z",
     "start_time": "2023-05-03T21:44:14.601551Z"
    }
   },
   "outputs": [
    {
     "data": {
      "text/html": [
       "<style>.container { width:100% !important; }</style>"
      ],
      "text/plain": [
       "<IPython.core.display.HTML object>"
      ]
     },
     "metadata": {},
     "output_type": "display_data"
    }
   ],
   "source": [
    "from IPython.display import display, HTML\n",
    "display(HTML(\"<style>.container { width:100% !important; }</style>\"))\n",
    "\n",
    "import sys\n",
    "sys.path.append(\"..\")\n",
    "import tensorflow as tf\n",
    "import numpy as np\n",
    "import matplotlib.pyplot as plt\n",
    "from src.unet_models import MODELS"
   ]
  },
  {
   "cell_type": "code",
   "execution_count": 2,
   "id": "20b99345",
   "metadata": {
    "ExecuteTime": {
     "end_time": "2023-05-03T21:44:18.591300Z",
     "start_time": "2023-05-03T21:44:18.552345Z"
    }
   },
   "outputs": [],
   "source": [
    "train_x = np.load('../DATASETS/noise_7e-3/src/no_indiv_per_train_6oct_1_512_128_064_032_016_SRC_30_exe_100.npy')\n",
    "train_y = np.load('../DATASETS/noise_7e-3/label/no_indiv_per_train_6oct_1_512_128_064_032_016_LABEL_30_exe_100.npy')"
   ]
  },
  {
   "cell_type": "code",
   "execution_count": null,
   "id": "2757f89c",
   "metadata": {},
   "outputs": [],
   "source": []
  },
  {
   "cell_type": "code",
   "execution_count": 3,
   "id": "55186e72",
   "metadata": {
    "ExecuteTime": {
     "end_time": "2023-05-03T21:44:20.274376Z",
     "start_time": "2023-05-03T21:44:19.984659Z"
    }
   },
   "outputs": [
    {
     "data": {
      "text/plain": [
       "<matplotlib.colorbar.Colorbar at 0x1485ded4220>"
      ]
     },
     "execution_count": 3,
     "metadata": {},
     "output_type": "execute_result"
    },
    {
     "data": {
      "image/png": "[encoded data removed]",
      "text/plain": [
       "<Figure size 432x288 with 2 Axes>"
      ]
     },
     "metadata": {
      "needs_background": "light"
     },
     "output_type": "display_data"
    },
    {
     "data": {
      "image/png": "[encoded data removed]",
      "text/plain": [
       "<Figure size 432x288 with 2 Axes>"
      ]
     },
     "metadata": {
      "needs_background": "light"
     },
     "output_type": "display_data"
    }
   ],
   "source": [
    "samp = np.random.randint(4,train_x.shape[0],1)[0]\n",
    "plt.figure()\n",
    "plt.imshow(train_x[samp])\n",
    "plt.colorbar()\n",
    "\n",
    "plt.figure()\n",
    "plt.imshow(train_y[samp])\n",
    "plt.colorbar()"
   ]
  },
  {
   "cell_type": "code",
   "execution_count": 16,
   "id": "76ddc1b4",
   "metadata": {
    "ExecuteTime": {
     "end_time": "2023-05-03T21:56:46.150249Z",
     "start_time": "2023-05-03T21:56:46.145217Z"
    }
   },
   "outputs": [],
   "source": [
    "bins = 32\n",
    "channel = 1\n",
    "loss_func = 'mse'\n",
    "lr = '1e-4'\n",
    "opt = tf.keras.optimizers.Nadam(learning_rate=float(lr))\n",
    "metric = 'mae'\n",
    "reg = '0'\n",
    "filt_lst = [64,128,256,512]\n",
    "dns = 256\n",
    "drop = '0'\n",
    "batch_size = 256#\n",
    "ep=100"
   ]
  },
  {
   "cell_type": "code",
   "execution_count": 17,
   "id": "a6673058",
   "metadata": {
    "ExecuteTime": {
     "end_time": "2023-05-03T21:57:40.413081Z",
     "start_time": "2023-05-03T21:56:46.415795Z"
    },
    "scrolled": true
   },
   "outputs": [
    {
     "name": "stdout",
     "output_type": "stream",
     "text": [
      "layer output: (None, 32, 32, 1)\n",
      "Model: \"model_3\"\n",
      "__________________________________________________________________________________________________\n",
      " Layer (type)                   Output Shape         Param #     Connected to                     \n",
      "==================================================================================================\n",
      " input_4 (InputLayer)           [(None, 32, 32, 1)]  0           []                               \n",
      "                                                                                                  \n",
      " conv2d_79 (Conv2D)             (None, 32, 32, 16)   160         ['input_4[0][0]']                \n",
      "                                                                                                  \n",
      " conv2d_80 (Conv2D)             (None, 32, 32, 16)   2320        ['conv2d_79[0][0]']              \n",
      "                                                                                                  \n",
      " max_pooling2d_9 (MaxPooling2D)  (None, 16, 16, 16)  0           ['conv2d_80[0][0]']              \n",
      "                                                                                                  \n",
      " conv2d_81 (Conv2D)             (None, 16, 16, 32)   4640        ['max_pooling2d_9[0][0]']        \n",
      "                                                                                                  \n",
      " dropout_67 (Dropout)           (None, 16, 16, 32)   0           ['conv2d_81[0][0]']              \n",
      "                                                                                                  \n",
      " conv2d_82 (Conv2D)             (None, 16, 16, 32)   9248        ['dropout_67[0][0]']             \n",
      "                                                                                                  \n",
      " max_pooling2d_10 (MaxPooling2D  (None, 8, 8, 32)    0           ['conv2d_82[0][0]']              \n",
      " )                                                                                                \n",
      "                                                                                                  \n",
      " conv2d_83 (Conv2D)             (None, 8, 8, 64)     18496       ['max_pooling2d_10[0][0]']       \n",
      "                                                                                                  \n",
      " dropout_68 (Dropout)           (None, 8, 8, 64)     0           ['conv2d_83[0][0]']              \n",
      "                                                                                                  \n",
      " conv2d_84 (Conv2D)             (None, 8, 8, 64)     36928       ['dropout_68[0][0]']             \n",
      "                                                                                                  \n",
      " max_pooling2d_11 (MaxPooling2D  (None, 4, 4, 64)    0           ['conv2d_84[0][0]']              \n",
      " )                                                                                                \n",
      "                                                                                                  \n",
      " conv2d_85 (Conv2D)             (None, 4, 4, 128)    73856       ['max_pooling2d_11[0][0]']       \n",
      "                                                                                                  \n",
      " dropout_69 (Dropout)           (None, 4, 4, 128)    0           ['conv2d_85[0][0]']              \n",
      "                                                                                                  \n",
      " conv2d_86 (Conv2D)             (None, 4, 4, 128)    147584      ['dropout_69[0][0]']             \n",
      "                                                                                                  \n",
      " max_pooling2d_12 (MaxPooling2D  (None, 2, 2, 128)   0           ['conv2d_86[0][0]']              \n",
      " )                                                                                                \n",
      "                                                                                                  \n",
      " conv2d_87 (Conv2D)             (None, 2, 2, 256)    295168      ['max_pooling2d_12[0][0]']       \n",
      "                                                                                                  \n",
      " dropout_70 (Dropout)           (None, 2, 2, 256)    0           ['conv2d_87[0][0]']              \n",
      "                                                                                                  \n",
      " conv2d_88 (Conv2D)             (None, 2, 2, 256)    590080      ['dropout_70[0][0]']             \n",
      "                                                                                                  \n",
      " conv2d_transpose_4 (Conv2DTran  (None, 4, 4, 128)   131200      ['conv2d_88[0][0]']              \n",
      " spose)                                                                                           \n",
      "                                                                                                  \n",
      " concatenate_4 (Concatenate)    (None, 4, 4, 256)    0           ['conv2d_transpose_4[0][0]',     \n",
      "                                                                  'conv2d_86[0][0]']              \n",
      "                                                                                                  \n",
      " conv2d_90 (Conv2D)             (None, 4, 4, 128)    295040      ['concatenate_4[0][0]']          \n",
      "                                                                                                  \n",
      " conv2d_transpose_5 (Conv2DTran  (None, 8, 8, 64)    32832       ['conv2d_90[0][0]']              \n",
      " spose)                                                                                           \n",
      "                                                                                                  \n",
      " concatenate_5 (Concatenate)    (None, 8, 8, 128)    0           ['conv2d_transpose_5[0][0]',     \n",
      "                                                                  'conv2d_84[0][0]']              \n",
      "                                                                                                  \n",
      " conv2d_92 (Conv2D)             (None, 8, 8, 64)     73792       ['concatenate_5[0][0]']          \n",
      "                                                                                                  \n",
      " conv2d_transpose_6 (Conv2DTran  (None, 16, 16, 32)  8224        ['conv2d_92[0][0]']              \n",
      " spose)                                                                                           \n",
      "                                                                                                  \n",
      " concatenate_6 (Concatenate)    (None, 16, 16, 64)   0           ['conv2d_transpose_6[0][0]',     \n",
      "                                                                  'conv2d_82[0][0]']              \n",
      "                                                                                                  \n",
      " conv2d_94 (Conv2D)             (None, 16, 16, 32)   18464       ['concatenate_6[0][0]']          \n",
      "                                                                                                  \n",
      " conv2d_transpose_7 (Conv2DTran  (None, 32, 32, 16)  2064        ['conv2d_94[0][0]']              \n",
      " spose)                                                                                           \n",
      "                                                                                                  \n",
      " concatenate_7 (Concatenate)    (None, 32, 32, 32)   0           ['conv2d_transpose_7[0][0]',     \n",
      "                                                                  'conv2d_80[0][0]']              \n",
      "                                                                                                  \n",
      " conv2d_96 (Conv2D)             (None, 32, 32, 16)   4624        ['concatenate_7[0][0]']          \n",
      "                                                                                                  \n",
      " conv2d_97 (Conv2D)             (None, 32, 32, 1)    17          ['conv2d_96[0][0]']              \n",
      "                                                                                                  \n",
      "==================================================================================================\n",
      "Total params: 1,744,737\n",
      "Trainable params: 1,744,737\n",
      "Non-trainable params: 0\n",
      "__________________________________________________________________________________________________\n",
      "Epoch 1/100\n",
      "8/8 [==============================] - 30s 405ms/step - loss: 0.0098 - mae: 0.0392 - val_loss: 0.0236 - val_mae: 0.0462\n",
      "Epoch 2/100\n"
     ]
    },
    {
     "name": "stdout",
     "output_type": "stream",
     "text": [
      "8/8 [==============================] - 0s 46ms/step - loss: 0.0092 - mae: 0.0243 - val_loss: 0.0235 - val_mae: 0.0369\n",
      "Epoch 3/100\n",
      "8/8 [==============================] - 0s 47ms/step - loss: 0.0091 - mae: 0.0193 - val_loss: 0.0233 - val_mae: 0.0356\n",
      "Epoch 4/100\n",
      "8/8 [==============================] - 0s 46ms/step - loss: 0.0090 - mae: 0.0186 - val_loss: 0.0231 - val_mae: 0.0356\n",
      "Epoch 5/100\n",
      "8/8 [==============================] - 0s 46ms/step - loss: 0.0089 - mae: 0.0185 - val_loss: 0.0229 - val_mae: 0.0355\n",
      "Epoch 6/100\n",
      "8/8 [==============================] - 0s 49ms/step - loss: 0.0088 - mae: 0.0183 - val_loss: 0.0227 - val_mae: 0.0352\n",
      "Epoch 7/100\n",
      "8/8 [==============================] - 0s 46ms/step - loss: 0.0087 - mae: 0.0178 - val_loss: 0.0226 - val_mae: 0.0348\n",
      "Epoch 8/100\n",
      "8/8 [==============================] - 0s 47ms/step - loss: 0.0086 - mae: 0.0175 - val_loss: 0.0224 - val_mae: 0.0344\n",
      "Epoch 9/100\n",
      "8/8 [==============================] - 0s 50ms/step - loss: 0.0086 - mae: 0.0171 - val_loss: 0.0222 - val_mae: 0.0337\n",
      "Epoch 10/100\n",
      "8/8 [==============================] - 0s 47ms/step - loss: 0.0085 - mae: 0.0166 - val_loss: 0.0221 - val_mae: 0.0337\n",
      "Epoch 11/100\n",
      "8/8 [==============================] - 0s 47ms/step - loss: 0.0084 - mae: 0.0164 - val_loss: 0.0219 - val_mae: 0.0331\n",
      "Epoch 12/100\n",
      "8/8 [==============================] - 0s 53ms/step - loss: 0.0083 - mae: 0.0161 - val_loss: 0.0218 - val_mae: 0.0328\n",
      "Epoch 13/100\n",
      "8/8 [==============================] - 0s 49ms/step - loss: 0.0082 - mae: 0.0159 - val_loss: 0.0216 - val_mae: 0.0324\n",
      "Epoch 14/100\n",
      "8/8 [==============================] - 0s 49ms/step - loss: 0.0082 - mae: 0.0157 - val_loss: 0.0215 - val_mae: 0.0315\n",
      "Epoch 15/100\n",
      "8/8 [==============================] - 0s 50ms/step - loss: 0.0081 - mae: 0.0154 - val_loss: 0.0213 - val_mae: 0.0328\n",
      "Epoch 16/100\n",
      "8/8 [==============================] - 0s 49ms/step - loss: 0.0080 - mae: 0.0152 - val_loss: 0.0211 - val_mae: 0.0331\n",
      "Epoch 17/100\n",
      "8/8 [==============================] - 0s 49ms/step - loss: 0.0079 - mae: 0.0151 - val_loss: 0.0210 - val_mae: 0.0311\n",
      "Epoch 18/100\n",
      "8/8 [==============================] - 0s 54ms/step - loss: 0.0078 - mae: 0.0148 - val_loss: 0.0208 - val_mae: 0.0305\n",
      "Epoch 19/100\n",
      "8/8 [==============================] - 0s 50ms/step - loss: 0.0077 - mae: 0.0145 - val_loss: 0.0205 - val_mae: 0.0313\n",
      "Epoch 20/100\n",
      "8/8 [==============================] - 0s 49ms/step - loss: 0.0076 - mae: 0.0143 - val_loss: 0.0202 - val_mae: 0.0322\n",
      "Epoch 21/100\n",
      "8/8 [==============================] - 0s 51ms/step - loss: 0.0075 - mae: 0.0141 - val_loss: 0.0200 - val_mae: 0.0308\n",
      "Epoch 22/100\n",
      "8/8 [==============================] - 0s 47ms/step - loss: 0.0074 - mae: 0.0139 - val_loss: 0.0198 - val_mae: 0.0310\n",
      "Epoch 23/100\n",
      "8/8 [==============================] - 0s 46ms/step - loss: 0.0073 - mae: 0.0137 - val_loss: 0.0196 - val_mae: 0.0306\n",
      "Epoch 24/100\n",
      "8/8 [==============================] - 0s 51ms/step - loss: 0.0072 - mae: 0.0136 - val_loss: 0.0197 - val_mae: 0.0274\n",
      "Epoch 25/100\n",
      "8/8 [==============================] - 0s 46ms/step - loss: 0.0071 - mae: 0.0131 - val_loss: 0.0193 - val_mae: 0.0284\n",
      "Epoch 26/100\n",
      "8/8 [==============================] - 0s 46ms/step - loss: 0.0070 - mae: 0.0129 - val_loss: 0.0189 - val_mae: 0.0314\n",
      "Epoch 27/100\n",
      "8/8 [==============================] - 0s 50ms/step - loss: 0.0069 - mae: 0.0128 - val_loss: 0.0188 - val_mae: 0.0307\n",
      "Epoch 28/100\n",
      "8/8 [==============================] - 0s 46ms/step - loss: 0.0068 - mae: 0.0127 - val_loss: 0.0187 - val_mae: 0.0279\n",
      "Epoch 29/100\n",
      "8/8 [==============================] - 0s 46ms/step - loss: 0.0067 - mae: 0.0124 - val_loss: 0.0184 - val_mae: 0.0298\n",
      "Epoch 30/100\n",
      "8/8 [==============================] - 0s 48ms/step - loss: 0.0066 - mae: 0.0122 - val_loss: 0.0182 - val_mae: 0.0297\n",
      "Epoch 31/100\n",
      "8/8 [==============================] - 0s 46ms/step - loss: 0.0065 - mae: 0.0120 - val_loss: 0.0180 - val_mae: 0.0286\n",
      "Epoch 32/100\n",
      "8/8 [==============================] - 0s 47ms/step - loss: 0.0064 - mae: 0.0118 - val_loss: 0.0178 - val_mae: 0.0290\n",
      "Epoch 33/100\n",
      "8/8 [==============================] - 0s 48ms/step - loss: 0.0063 - mae: 0.0117 - val_loss: 0.0177 - val_mae: 0.0279\n",
      "Epoch 34/100\n",
      "8/8 [==============================] - 0s 47ms/step - loss: 0.0062 - mae: 0.0115 - val_loss: 0.0177 - val_mae: 0.0259\n",
      "Epoch 35/100\n",
      "8/8 [==============================] - 0s 46ms/step - loss: 0.0062 - mae: 0.0112 - val_loss: 0.0175 - val_mae: 0.0258\n",
      "Epoch 36/100\n",
      "8/8 [==============================] - 0s 48ms/step - loss: 0.0061 - mae: 0.0111 - val_loss: 0.0172 - val_mae: 0.0266\n",
      "Epoch 37/100\n",
      "8/8 [==============================] - 0s 47ms/step - loss: 0.0061 - mae: 0.0109 - val_loss: 0.0171 - val_mae: 0.0281\n",
      "Epoch 38/100\n",
      "8/8 [==============================] - 0s 47ms/step - loss: 0.0060 - mae: 0.0108 - val_loss: 0.0169 - val_mae: 0.0282\n",
      "Epoch 39/100\n",
      "8/8 [==============================] - 0s 47ms/step - loss: 0.0059 - mae: 0.0107 - val_loss: 0.0168 - val_mae: 0.0269\n",
      "Epoch 40/100\n",
      "8/8 [==============================] - 0s 50ms/step - loss: 0.0058 - mae: 0.0106 - val_loss: 0.0168 - val_mae: 0.0248\n",
      "Epoch 41/100\n",
      "8/8 [==============================] - 0s 46ms/step - loss: 0.0058 - mae: 0.0104 - val_loss: 0.0167 - val_mae: 0.0244\n",
      "Epoch 42/100\n",
      "8/8 [==============================] - 0s 48ms/step - loss: 0.0057 - mae: 0.0102 - val_loss: 0.0165 - val_mae: 0.0246\n",
      "Epoch 43/100\n",
      "8/8 [==============================] - 0s 51ms/step - loss: 0.0057 - mae: 0.0102 - val_loss: 0.0165 - val_mae: 0.0237\n",
      "Epoch 44/100\n",
      "8/8 [==============================] - 0s 47ms/step - loss: 0.0056 - mae: 0.0100 - val_loss: 0.0162 - val_mae: 0.0256\n",
      "Epoch 45/100\n",
      "8/8 [==============================] - 0s 47ms/step - loss: 0.0055 - mae: 0.0100 - val_loss: 0.0161 - val_mae: 0.0245\n",
      "Epoch 46/100\n",
      "8/8 [==============================] - 0s 49ms/step - loss: 0.0055 - mae: 0.0099 - val_loss: 0.0163 - val_mae: 0.0226\n",
      "Epoch 47/100\n",
      "8/8 [==============================] - 0s 47ms/step - loss: 0.0055 - mae: 0.0097 - val_loss: 0.0161 - val_mae: 0.0231\n",
      "Epoch 48/100\n",
      "8/8 [==============================] - 0s 48ms/step - loss: 0.0054 - mae: 0.0097 - val_loss: 0.0160 - val_mae: 0.0228\n",
      "Epoch 49/100\n",
      "8/8 [==============================] - 0s 49ms/step - loss: 0.0054 - mae: 0.0096 - val_loss: 0.0158 - val_mae: 0.0233\n",
      "Epoch 50/100\n",
      "8/8 [==============================] - 0s 47ms/step - loss: 0.0053 - mae: 0.0096 - val_loss: 0.0160 - val_mae: 0.0220\n",
      "Epoch 51/100\n",
      "8/8 [==============================] - 0s 47ms/step - loss: 0.0053 - mae: 0.0093 - val_loss: 0.0157 - val_mae: 0.0232\n",
      "Epoch 52/100\n",
      "8/8 [==============================] - 0s 50ms/step - loss: 0.0052 - mae: 0.0094 - val_loss: 0.0157 - val_mae: 0.0225\n",
      "Epoch 53/100\n",
      "8/8 [==============================] - 0s 47ms/step - loss: 0.0052 - mae: 0.0093 - val_loss: 0.0156 - val_mae: 0.0228\n",
      "Epoch 54/100\n",
      "8/8 [==============================] - 0s 47ms/step - loss: 0.0052 - mae: 0.0092 - val_loss: 0.0156 - val_mae: 0.0222\n",
      "Epoch 55/100\n",
      "8/8 [==============================] - 0s 51ms/step - loss: 0.0051 - mae: 0.0091 - val_loss: 0.0155 - val_mae: 0.0219\n",
      "Epoch 56/100\n",
      "8/8 [==============================] - 0s 47ms/step - loss: 0.0051 - mae: 0.0090 - val_loss: 0.0153 - val_mae: 0.0228\n",
      "Epoch 57/100\n",
      "8/8 [==============================] - 0s 48ms/step - loss: 0.0050 - mae: 0.0090 - val_loss: 0.0153 - val_mae: 0.0224\n",
      "Epoch 58/100\n",
      "8/8 [==============================] - 0s 52ms/step - loss: 0.0050 - mae: 0.0091 - val_loss: 0.0156 - val_mae: 0.0211\n",
      "Epoch 59/100\n",
      "8/8 [==============================] - 0s 50ms/step - loss: 0.0050 - mae: 0.0088 - val_loss: 0.0153 - val_mae: 0.0218\n",
      "Epoch 60/100\n",
      "8/8 [==============================] - 0s 51ms/step - loss: 0.0049 - mae: 0.0087 - val_loss: 0.0151 - val_mae: 0.0236\n",
      "Epoch 61/100\n",
      "8/8 [==============================] - 0s 53ms/step - loss: 0.0049 - mae: 0.0088 - val_loss: 0.0151 - val_mae: 0.0238\n",
      "Epoch 62/100\n",
      "5/8 [=================>............] - ETA: 0s - loss: 0.0048 - mae: 0.0088"
     ]
    },
    {
     "ename": "KeyboardInterrupt",
     "evalue": "",
     "output_type": "error",
     "traceback": [
      "\u001b[1;31m---------------------------------------------------------------------------\u001b[0m",
      "\u001b[1;31mKeyboardInterrupt\u001b[0m                         Traceback (most recent call last)",
      "Input \u001b[1;32mIn [17]\u001b[0m, in \u001b[0;36m<cell line: 34>\u001b[1;34m()\u001b[0m\n\u001b[0;32m     29\u001b[0m callback \u001b[38;5;241m=\u001b[39m tf\u001b[38;5;241m.\u001b[39mkeras\u001b[38;5;241m.\u001b[39mcallbacks\u001b[38;5;241m.\u001b[39mEarlyStopping(monitor\u001b[38;5;241m=\u001b[39m\u001b[38;5;124m'\u001b[39m\u001b[38;5;124mloss\u001b[39m\u001b[38;5;124m'\u001b[39m, patience\u001b[38;5;241m=\u001b[39m\u001b[38;5;241m5\u001b[39m, verbose\u001b[38;5;241m=\u001b[39m\u001b[38;5;241m1\u001b[39m)\n\u001b[0;32m     30\u001b[0m \u001b[38;5;66;03m#mc = tf.keras.callbacks.ModelCheckpoint(f'../models/{folder_name}/{model_type}_{folder_name}_{chnl}__256_m_1280_{loss_func}_lr_{lr}_{ep}_DROPOUT{reg}.h5',\u001b[39;00m\n\u001b[0;32m     31\u001b[0m \u001b[38;5;66;03m#                                       monitor='val_loss', model='min', verbose=1, save_best_only=True)\u001b[39;00m\n\u001b[1;32m---> 34\u001b[0m history\u001b[38;5;241m=\u001b[39m\u001b[43mmodel\u001b[49m\u001b[38;5;241;43m.\u001b[39;49m\u001b[43mfit\u001b[49m\u001b[43m(\u001b[49m\u001b[43mtrain_X\u001b[49m\u001b[43m[\u001b[49m\u001b[43m:\u001b[49m\u001b[43m]\u001b[49m\u001b[43m,\u001b[49m\u001b[43mtrain_y\u001b[49m\u001b[43m[\u001b[49m\u001b[43m:\u001b[49m\u001b[43m]\u001b[49m\u001b[43m,\u001b[49m\n\u001b[0;32m     35\u001b[0m \u001b[43m                \u001b[49m\u001b[43mbatch_size\u001b[49m\u001b[38;5;241;43m=\u001b[39;49m\u001b[43mbatch_size\u001b[49m\u001b[43m,\u001b[49m\u001b[43mepochs\u001b[49m\u001b[38;5;241;43m=\u001b[39;49m\u001b[43mep\u001b[49m\u001b[43m,\u001b[49m\n\u001b[0;32m     36\u001b[0m \u001b[43m                \u001b[49m\u001b[43mvalidation_split\u001b[49m\u001b[38;5;241;43m=\u001b[39;49m\u001b[38;5;241;43m0.33\u001b[39;49m\u001b[43m,\u001b[49m\u001b[43mshuffle\u001b[49m\u001b[38;5;241;43m=\u001b[39;49m\u001b[38;5;28;43;01mTrue\u001b[39;49;00m\u001b[43m,\u001b[49m\u001b[43m \u001b[49m\u001b[43mcallbacks\u001b[49m\u001b[38;5;241;43m=\u001b[39;49m\u001b[43m[\u001b[49m\u001b[43mcallback\u001b[49m\u001b[43m]\u001b[49m\u001b[43m)\u001b[49m\n",
      "File \u001b[1;32m~\\anaconda3\\lib\\site-packages\\keras\\utils\\traceback_utils.py:64\u001b[0m, in \u001b[0;36mfilter_traceback.<locals>.error_handler\u001b[1;34m(*args, **kwargs)\u001b[0m\n\u001b[0;32m     62\u001b[0m filtered_tb \u001b[38;5;241m=\u001b[39m \u001b[38;5;28;01mNone\u001b[39;00m\n\u001b[0;32m     63\u001b[0m \u001b[38;5;28;01mtry\u001b[39;00m:\n\u001b[1;32m---> 64\u001b[0m   \u001b[38;5;28;01mreturn\u001b[39;00m fn(\u001b[38;5;241m*\u001b[39margs, \u001b[38;5;241m*\u001b[39m\u001b[38;5;241m*\u001b[39mkwargs)\n\u001b[0;32m     65\u001b[0m \u001b[38;5;28;01mexcept\u001b[39;00m \u001b[38;5;167;01mException\u001b[39;00m \u001b[38;5;28;01mas\u001b[39;00m e:  \u001b[38;5;66;03m# pylint: disable=broad-except\u001b[39;00m\n\u001b[0;32m     66\u001b[0m   filtered_tb \u001b[38;5;241m=\u001b[39m _process_traceback_frames(e\u001b[38;5;241m.\u001b[39m__traceback__)\n",
      "File \u001b[1;32m~\\anaconda3\\lib\\site-packages\\keras\\engine\\training.py:1409\u001b[0m, in \u001b[0;36mModel.fit\u001b[1;34m(self, x, y, batch_size, epochs, verbose, callbacks, validation_split, validation_data, shuffle, class_weight, sample_weight, initial_epoch, steps_per_epoch, validation_steps, validation_batch_size, validation_freq, max_queue_size, workers, use_multiprocessing)\u001b[0m\n\u001b[0;32m   1402\u001b[0m \u001b[38;5;28;01mwith\u001b[39;00m tf\u001b[38;5;241m.\u001b[39mprofiler\u001b[38;5;241m.\u001b[39mexperimental\u001b[38;5;241m.\u001b[39mTrace(\n\u001b[0;32m   1403\u001b[0m     \u001b[38;5;124m'\u001b[39m\u001b[38;5;124mtrain\u001b[39m\u001b[38;5;124m'\u001b[39m,\n\u001b[0;32m   1404\u001b[0m     epoch_num\u001b[38;5;241m=\u001b[39mepoch,\n\u001b[0;32m   1405\u001b[0m     step_num\u001b[38;5;241m=\u001b[39mstep,\n\u001b[0;32m   1406\u001b[0m     batch_size\u001b[38;5;241m=\u001b[39mbatch_size,\n\u001b[0;32m   1407\u001b[0m     _r\u001b[38;5;241m=\u001b[39m\u001b[38;5;241m1\u001b[39m):\n\u001b[0;32m   1408\u001b[0m   callbacks\u001b[38;5;241m.\u001b[39mon_train_batch_begin(step)\n\u001b[1;32m-> 1409\u001b[0m   tmp_logs \u001b[38;5;241m=\u001b[39m \u001b[38;5;28;43mself\u001b[39;49m\u001b[38;5;241;43m.\u001b[39;49m\u001b[43mtrain_function\u001b[49m\u001b[43m(\u001b[49m\u001b[43miterator\u001b[49m\u001b[43m)\u001b[49m\n\u001b[0;32m   1410\u001b[0m   \u001b[38;5;28;01mif\u001b[39;00m data_handler\u001b[38;5;241m.\u001b[39mshould_sync:\n\u001b[0;32m   1411\u001b[0m     context\u001b[38;5;241m.\u001b[39masync_wait()\n",
      "File \u001b[1;32m~\\anaconda3\\lib\\site-packages\\tensorflow\\python\\util\\traceback_utils.py:150\u001b[0m, in \u001b[0;36mfilter_traceback.<locals>.error_handler\u001b[1;34m(*args, **kwargs)\u001b[0m\n\u001b[0;32m    148\u001b[0m filtered_tb \u001b[38;5;241m=\u001b[39m \u001b[38;5;28;01mNone\u001b[39;00m\n\u001b[0;32m    149\u001b[0m \u001b[38;5;28;01mtry\u001b[39;00m:\n\u001b[1;32m--> 150\u001b[0m   \u001b[38;5;28;01mreturn\u001b[39;00m fn(\u001b[38;5;241m*\u001b[39margs, \u001b[38;5;241m*\u001b[39m\u001b[38;5;241m*\u001b[39mkwargs)\n\u001b[0;32m    151\u001b[0m \u001b[38;5;28;01mexcept\u001b[39;00m \u001b[38;5;167;01mException\u001b[39;00m \u001b[38;5;28;01mas\u001b[39;00m e:\n\u001b[0;32m    152\u001b[0m   filtered_tb \u001b[38;5;241m=\u001b[39m _process_traceback_frames(e\u001b[38;5;241m.\u001b[39m__traceback__)\n",
      "File \u001b[1;32m~\\anaconda3\\lib\\site-packages\\tensorflow\\python\\eager\\def_function.py:915\u001b[0m, in \u001b[0;36mFunction.__call__\u001b[1;34m(self, *args, **kwds)\u001b[0m\n\u001b[0;32m    912\u001b[0m compiler \u001b[38;5;241m=\u001b[39m \u001b[38;5;124m\"\u001b[39m\u001b[38;5;124mxla\u001b[39m\u001b[38;5;124m\"\u001b[39m \u001b[38;5;28;01mif\u001b[39;00m \u001b[38;5;28mself\u001b[39m\u001b[38;5;241m.\u001b[39m_jit_compile \u001b[38;5;28;01melse\u001b[39;00m \u001b[38;5;124m\"\u001b[39m\u001b[38;5;124mnonXla\u001b[39m\u001b[38;5;124m\"\u001b[39m\n\u001b[0;32m    914\u001b[0m \u001b[38;5;28;01mwith\u001b[39;00m OptionalXlaContext(\u001b[38;5;28mself\u001b[39m\u001b[38;5;241m.\u001b[39m_jit_compile):\n\u001b[1;32m--> 915\u001b[0m   result \u001b[38;5;241m=\u001b[39m \u001b[38;5;28mself\u001b[39m\u001b[38;5;241m.\u001b[39m_call(\u001b[38;5;241m*\u001b[39margs, \u001b[38;5;241m*\u001b[39m\u001b[38;5;241m*\u001b[39mkwds)\n\u001b[0;32m    917\u001b[0m new_tracing_count \u001b[38;5;241m=\u001b[39m \u001b[38;5;28mself\u001b[39m\u001b[38;5;241m.\u001b[39mexperimental_get_tracing_count()\n\u001b[0;32m    918\u001b[0m without_tracing \u001b[38;5;241m=\u001b[39m (tracing_count \u001b[38;5;241m==\u001b[39m new_tracing_count)\n",
      "File \u001b[1;32m~\\anaconda3\\lib\\site-packages\\tensorflow\\python\\eager\\def_function.py:947\u001b[0m, in \u001b[0;36mFunction._call\u001b[1;34m(self, *args, **kwds)\u001b[0m\n\u001b[0;32m    944\u001b[0m   \u001b[38;5;28mself\u001b[39m\u001b[38;5;241m.\u001b[39m_lock\u001b[38;5;241m.\u001b[39mrelease()\n\u001b[0;32m    945\u001b[0m   \u001b[38;5;66;03m# In this case we have created variables on the first call, so we run the\u001b[39;00m\n\u001b[0;32m    946\u001b[0m   \u001b[38;5;66;03m# defunned version which is guaranteed to never create variables.\u001b[39;00m\n\u001b[1;32m--> 947\u001b[0m   \u001b[38;5;28;01mreturn\u001b[39;00m \u001b[38;5;28mself\u001b[39m\u001b[38;5;241m.\u001b[39m_stateless_fn(\u001b[38;5;241m*\u001b[39margs, \u001b[38;5;241m*\u001b[39m\u001b[38;5;241m*\u001b[39mkwds)  \u001b[38;5;66;03m# pylint: disable=not-callable\u001b[39;00m\n\u001b[0;32m    948\u001b[0m \u001b[38;5;28;01melif\u001b[39;00m \u001b[38;5;28mself\u001b[39m\u001b[38;5;241m.\u001b[39m_stateful_fn \u001b[38;5;129;01mis\u001b[39;00m \u001b[38;5;129;01mnot\u001b[39;00m \u001b[38;5;28;01mNone\u001b[39;00m:\n\u001b[0;32m    949\u001b[0m   \u001b[38;5;66;03m# Release the lock early so that multiple threads can perform the call\u001b[39;00m\n\u001b[0;32m    950\u001b[0m   \u001b[38;5;66;03m# in parallel.\u001b[39;00m\n\u001b[0;32m    951\u001b[0m   \u001b[38;5;28mself\u001b[39m\u001b[38;5;241m.\u001b[39m_lock\u001b[38;5;241m.\u001b[39mrelease()\n",
      "File \u001b[1;32m~\\anaconda3\\lib\\site-packages\\tensorflow\\python\\eager\\function.py:2453\u001b[0m, in \u001b[0;36mFunction.__call__\u001b[1;34m(self, *args, **kwargs)\u001b[0m\n\u001b[0;32m   2450\u001b[0m \u001b[38;5;28;01mwith\u001b[39;00m \u001b[38;5;28mself\u001b[39m\u001b[38;5;241m.\u001b[39m_lock:\n\u001b[0;32m   2451\u001b[0m   (graph_function,\n\u001b[0;32m   2452\u001b[0m    filtered_flat_args) \u001b[38;5;241m=\u001b[39m \u001b[38;5;28mself\u001b[39m\u001b[38;5;241m.\u001b[39m_maybe_define_function(args, kwargs)\n\u001b[1;32m-> 2453\u001b[0m \u001b[38;5;28;01mreturn\u001b[39;00m \u001b[43mgraph_function\u001b[49m\u001b[38;5;241;43m.\u001b[39;49m\u001b[43m_call_flat\u001b[49m\u001b[43m(\u001b[49m\n\u001b[0;32m   2454\u001b[0m \u001b[43m    \u001b[49m\u001b[43mfiltered_flat_args\u001b[49m\u001b[43m,\u001b[49m\u001b[43m \u001b[49m\u001b[43mcaptured_inputs\u001b[49m\u001b[38;5;241;43m=\u001b[39;49m\u001b[43mgraph_function\u001b[49m\u001b[38;5;241;43m.\u001b[39;49m\u001b[43mcaptured_inputs\u001b[49m\u001b[43m)\u001b[49m\n",
      "File \u001b[1;32m~\\anaconda3\\lib\\site-packages\\tensorflow\\python\\eager\\function.py:1860\u001b[0m, in \u001b[0;36mConcreteFunction._call_flat\u001b[1;34m(self, args, captured_inputs, cancellation_manager)\u001b[0m\n\u001b[0;32m   1856\u001b[0m possible_gradient_type \u001b[38;5;241m=\u001b[39m gradients_util\u001b[38;5;241m.\u001b[39mPossibleTapeGradientTypes(args)\n\u001b[0;32m   1857\u001b[0m \u001b[38;5;28;01mif\u001b[39;00m (possible_gradient_type \u001b[38;5;241m==\u001b[39m gradients_util\u001b[38;5;241m.\u001b[39mPOSSIBLE_GRADIENT_TYPES_NONE\n\u001b[0;32m   1858\u001b[0m     \u001b[38;5;129;01mand\u001b[39;00m executing_eagerly):\n\u001b[0;32m   1859\u001b[0m   \u001b[38;5;66;03m# No tape is watching; skip to running the function.\u001b[39;00m\n\u001b[1;32m-> 1860\u001b[0m   \u001b[38;5;28;01mreturn\u001b[39;00m \u001b[38;5;28mself\u001b[39m\u001b[38;5;241m.\u001b[39m_build_call_outputs(\u001b[38;5;28;43mself\u001b[39;49m\u001b[38;5;241;43m.\u001b[39;49m\u001b[43m_inference_function\u001b[49m\u001b[38;5;241;43m.\u001b[39;49m\u001b[43mcall\u001b[49m\u001b[43m(\u001b[49m\n\u001b[0;32m   1861\u001b[0m \u001b[43m      \u001b[49m\u001b[43mctx\u001b[49m\u001b[43m,\u001b[49m\u001b[43m \u001b[49m\u001b[43margs\u001b[49m\u001b[43m,\u001b[49m\u001b[43m \u001b[49m\u001b[43mcancellation_manager\u001b[49m\u001b[38;5;241;43m=\u001b[39;49m\u001b[43mcancellation_manager\u001b[49m\u001b[43m)\u001b[49m)\n\u001b[0;32m   1862\u001b[0m forward_backward \u001b[38;5;241m=\u001b[39m \u001b[38;5;28mself\u001b[39m\u001b[38;5;241m.\u001b[39m_select_forward_and_backward_functions(\n\u001b[0;32m   1863\u001b[0m     args,\n\u001b[0;32m   1864\u001b[0m     possible_gradient_type,\n\u001b[0;32m   1865\u001b[0m     executing_eagerly)\n\u001b[0;32m   1866\u001b[0m forward_function, args_with_tangents \u001b[38;5;241m=\u001b[39m forward_backward\u001b[38;5;241m.\u001b[39mforward()\n",
      "File \u001b[1;32m~\\anaconda3\\lib\\site-packages\\tensorflow\\python\\eager\\function.py:497\u001b[0m, in \u001b[0;36m_EagerDefinedFunction.call\u001b[1;34m(self, ctx, args, cancellation_manager)\u001b[0m\n\u001b[0;32m    495\u001b[0m \u001b[38;5;28;01mwith\u001b[39;00m _InterpolateFunctionError(\u001b[38;5;28mself\u001b[39m):\n\u001b[0;32m    496\u001b[0m   \u001b[38;5;28;01mif\u001b[39;00m cancellation_manager \u001b[38;5;129;01mis\u001b[39;00m \u001b[38;5;28;01mNone\u001b[39;00m:\n\u001b[1;32m--> 497\u001b[0m     outputs \u001b[38;5;241m=\u001b[39m \u001b[43mexecute\u001b[49m\u001b[38;5;241;43m.\u001b[39;49m\u001b[43mexecute\u001b[49m\u001b[43m(\u001b[49m\n\u001b[0;32m    498\u001b[0m \u001b[43m        \u001b[49m\u001b[38;5;28;43mstr\u001b[39;49m\u001b[43m(\u001b[49m\u001b[38;5;28;43mself\u001b[39;49m\u001b[38;5;241;43m.\u001b[39;49m\u001b[43msignature\u001b[49m\u001b[38;5;241;43m.\u001b[39;49m\u001b[43mname\u001b[49m\u001b[43m)\u001b[49m\u001b[43m,\u001b[49m\n\u001b[0;32m    499\u001b[0m \u001b[43m        \u001b[49m\u001b[43mnum_outputs\u001b[49m\u001b[38;5;241;43m=\u001b[39;49m\u001b[38;5;28;43mself\u001b[39;49m\u001b[38;5;241;43m.\u001b[39;49m\u001b[43m_num_outputs\u001b[49m\u001b[43m,\u001b[49m\n\u001b[0;32m    500\u001b[0m \u001b[43m        \u001b[49m\u001b[43minputs\u001b[49m\u001b[38;5;241;43m=\u001b[39;49m\u001b[43margs\u001b[49m\u001b[43m,\u001b[49m\n\u001b[0;32m    501\u001b[0m \u001b[43m        \u001b[49m\u001b[43mattrs\u001b[49m\u001b[38;5;241;43m=\u001b[39;49m\u001b[43mattrs\u001b[49m\u001b[43m,\u001b[49m\n\u001b[0;32m    502\u001b[0m \u001b[43m        \u001b[49m\u001b[43mctx\u001b[49m\u001b[38;5;241;43m=\u001b[39;49m\u001b[43mctx\u001b[49m\u001b[43m)\u001b[49m\n\u001b[0;32m    503\u001b[0m   \u001b[38;5;28;01melse\u001b[39;00m:\n\u001b[0;32m    504\u001b[0m     outputs \u001b[38;5;241m=\u001b[39m execute\u001b[38;5;241m.\u001b[39mexecute_with_cancellation(\n\u001b[0;32m    505\u001b[0m         \u001b[38;5;28mstr\u001b[39m(\u001b[38;5;28mself\u001b[39m\u001b[38;5;241m.\u001b[39msignature\u001b[38;5;241m.\u001b[39mname),\n\u001b[0;32m    506\u001b[0m         num_outputs\u001b[38;5;241m=\u001b[39m\u001b[38;5;28mself\u001b[39m\u001b[38;5;241m.\u001b[39m_num_outputs,\n\u001b[1;32m   (...)\u001b[0m\n\u001b[0;32m    509\u001b[0m         ctx\u001b[38;5;241m=\u001b[39mctx,\n\u001b[0;32m    510\u001b[0m         cancellation_manager\u001b[38;5;241m=\u001b[39mcancellation_manager)\n",
      "File \u001b[1;32m~\\anaconda3\\lib\\site-packages\\tensorflow\\python\\eager\\execute.py:54\u001b[0m, in \u001b[0;36mquick_execute\u001b[1;34m(op_name, num_outputs, inputs, attrs, ctx, name)\u001b[0m\n\u001b[0;32m     52\u001b[0m \u001b[38;5;28;01mtry\u001b[39;00m:\n\u001b[0;32m     53\u001b[0m   ctx\u001b[38;5;241m.\u001b[39mensure_initialized()\n\u001b[1;32m---> 54\u001b[0m   tensors \u001b[38;5;241m=\u001b[39m \u001b[43mpywrap_tfe\u001b[49m\u001b[38;5;241;43m.\u001b[39;49m\u001b[43mTFE_Py_Execute\u001b[49m\u001b[43m(\u001b[49m\u001b[43mctx\u001b[49m\u001b[38;5;241;43m.\u001b[39;49m\u001b[43m_handle\u001b[49m\u001b[43m,\u001b[49m\u001b[43m \u001b[49m\u001b[43mdevice_name\u001b[49m\u001b[43m,\u001b[49m\u001b[43m \u001b[49m\u001b[43mop_name\u001b[49m\u001b[43m,\u001b[49m\n\u001b[0;32m     55\u001b[0m \u001b[43m                                      \u001b[49m\u001b[43minputs\u001b[49m\u001b[43m,\u001b[49m\u001b[43m \u001b[49m\u001b[43mattrs\u001b[49m\u001b[43m,\u001b[49m\u001b[43m \u001b[49m\u001b[43mnum_outputs\u001b[49m\u001b[43m)\u001b[49m\n\u001b[0;32m     56\u001b[0m \u001b[38;5;28;01mexcept\u001b[39;00m core\u001b[38;5;241m.\u001b[39m_NotOkStatusException \u001b[38;5;28;01mas\u001b[39;00m e:\n\u001b[0;32m     57\u001b[0m   \u001b[38;5;28;01mif\u001b[39;00m name \u001b[38;5;129;01mis\u001b[39;00m \u001b[38;5;129;01mnot\u001b[39;00m \u001b[38;5;28;01mNone\u001b[39;00m:\n",
      "\u001b[1;31mKeyboardInterrupt\u001b[0m: "
     ]
    }
   ],
   "source": [
    "get_model = MODELS()\n",
    "model_type=\"Unet16\"\n",
    "\n",
    "if model_type==\"attention_resunet\":\n",
    "    FILTER_NUM = 16\n",
    "    FILTER_SIZE = 3\n",
    "    NUM_CLASSES = 1\n",
    "    dropout_rate = 0.2\n",
    "    batch_norm = False\n",
    "    model = get_model.Attention_ResUNet(bins,channel,loss_func,opt,metric,FILTER_NUM=FILTER_NUM,batch_norm = False, dropout_rate = float(drop))\n",
    "elif model_type==\"unetpp\":\n",
    "    nb_filter = [16, 32, 64, 128, 256]\n",
    "    deep_supervision = False\n",
    "    model = get_model.Nest_Net(bins,channel,loss_func,opt,metric,nb_filter=nb_filter,deep_supervision=deep_supervision)\n",
    "elif model_type==\"Unet16\":\n",
    "    filt_num = 16\n",
    "    model = get_model.UNET(bins, channel, loss_func, opt, metric, float(reg), filt_num)\n",
    "elif model_type==\"vgg16\":\n",
    "    model = get_model.VGG16(filt_lst,dns,bins,channel,loss_func,opt,metric)\n",
    "elif model_type==\"resUnet\":\n",
    "    model = get_model.resUnet(bins, channel, loss_func, opt, metric, float(reg))\n",
    "elif model_type==\"unetPP48163264\":\n",
    "    nb_filter = [4,8,16,32,64]\n",
    "    filters = [4,8,16,32,64]\n",
    "    model = get_model.unetPP(bins,channel,loss_func,opt,metric,float(reg), nb_filter, filters)\n",
    "\n",
    "folder_name = 'sh06x2'\n",
    "chnl = 'ch0'\n",
    "callback = tf.keras.callbacks.EarlyStopping(monitor='loss', patience=5, verbose=1)\n",
    "#mc = tf.keras.callbacks.ModelCheckpoint(f'../models/{folder_name}/{model_type}_{folder_name}_{chnl}__256_m_1280_{loss_func}_lr_{lr}_{ep}_DROPOUT{reg}.h5',\n",
    "#                                       monitor='val_loss', model='min', verbose=1, save_best_only=True)\n",
    "\n",
    "\n",
    "history=model.fit(train_X[:],train_y[:],\n",
    "                batch_size=batch_size,epochs=ep,\n",
    "                validation_split=0.33,shuffle=True, callbacks=[callback])"
   ]
  },
  {
   "cell_type": "code",
   "execution_count": 10,
   "id": "fe66ac8d",
   "metadata": {
    "ExecuteTime": {
     "end_time": "2023-05-03T21:54:19.930536Z",
     "start_time": "2023-05-03T21:54:19.922023Z"
    }
   },
   "outputs": [],
   "source": [
    "train_X = train_x.reshape(train_x.shape[0],32,32,1)#/np.max(train_x)\n",
    "train_Y = train_y.reshape(train_y.shape[0],32,32,1)"
   ]
  },
  {
   "cell_type": "code",
   "execution_count": null,
   "id": "8b2c2cc4",
   "metadata": {
    "ExecuteTime": {
     "end_time": "2023-05-03T21:40:19.000561Z",
     "start_time": "2023-05-03T21:40:18.655743Z"
    }
   },
   "outputs": [],
   "source": []
  },
  {
   "cell_type": "code",
   "execution_count": 11,
   "id": "20b594b5",
   "metadata": {
    "ExecuteTime": {
     "end_time": "2023-05-03T21:54:21.003075Z",
     "start_time": "2023-05-03T21:54:20.898476Z"
    }
   },
   "outputs": [
    {
     "name": "stdout",
     "output_type": "stream",
     "text": [
      "Epoch 1/2500\n"
     ]
    },
    {
     "ename": "ValueError",
     "evalue": "in user code:\n\n    File \"C:\\Users\\jigar\\anaconda3\\lib\\site-packages\\keras\\engine\\training.py\", line 1051, in train_function  *\n        return step_function(self, iterator)\n    File \"C:\\Users\\jigar\\anaconda3\\lib\\site-packages\\keras\\engine\\training.py\", line 1040, in step_function  **\n        outputs = model.distribute_strategy.run(run_step, args=(data,))\n    File \"C:\\Users\\jigar\\anaconda3\\lib\\site-packages\\keras\\engine\\training.py\", line 1030, in run_step  **\n        outputs = model.train_step(data)\n    File \"C:\\Users\\jigar\\anaconda3\\lib\\site-packages\\keras\\engine\\training.py\", line 889, in train_step\n        y_pred = self(x, training=True)\n    File \"C:\\Users\\jigar\\anaconda3\\lib\\site-packages\\keras\\utils\\traceback_utils.py\", line 67, in error_handler\n        raise e.with_traceback(filtered_tb) from None\n\n    ValueError: Exception encountered when calling layer \"dropout_30\" (type Dropout).\n    \n    `rate` must be a scalar or scalar tensor. Received: rate=0\n    \n    Call arguments received by layer \"dropout_30\" (type Dropout):\n      • inputs=tf.Tensor(shape=(None, 32, 32, 2), dtype=float32)\n      • training=True\n",
     "output_type": "error",
     "traceback": [
      "\u001b[1;31m---------------------------------------------------------------------------\u001b[0m",
      "\u001b[1;31mValueError\u001b[0m                                Traceback (most recent call last)",
      "Input \u001b[1;32mIn [11]\u001b[0m, in \u001b[0;36m<cell line: 3>\u001b[1;34m()\u001b[0m\n\u001b[0;32m      1\u001b[0m batch_size \u001b[38;5;241m=\u001b[39m \u001b[38;5;241m64\u001b[39m\n\u001b[0;32m      2\u001b[0m epochs \u001b[38;5;241m=\u001b[39m \u001b[38;5;241m2500\u001b[39m\n\u001b[1;32m----> 3\u001b[0m history \u001b[38;5;241m=\u001b[39m \u001b[43mmodel\u001b[49m\u001b[38;5;241;43m.\u001b[39;49m\u001b[43mfit\u001b[49m\u001b[43m(\u001b[49m\u001b[43mtrain_X\u001b[49m\u001b[43m,\u001b[49m\u001b[43m \u001b[49m\u001b[43mtrain_Y\u001b[49m\u001b[43m,\u001b[49m\n\u001b[0;32m      4\u001b[0m \u001b[43m          \u001b[49m\u001b[43mbatch_size\u001b[49m\u001b[38;5;241;43m=\u001b[39;49m\u001b[43mbatch_size\u001b[49m\u001b[43m,\u001b[49m\n\u001b[0;32m      5\u001b[0m \u001b[43m          \u001b[49m\u001b[43mepochs\u001b[49m\u001b[38;5;241;43m=\u001b[39;49m\u001b[43mepochs\u001b[49m\u001b[43m,\u001b[49m\n\u001b[0;32m      6\u001b[0m \u001b[43m          \u001b[49m\u001b[38;5;66;43;03m#validation_split=.33,\u001b[39;49;00m\n\u001b[0;32m      7\u001b[0m \u001b[43m          \u001b[49m\u001b[43mvalidation_split\u001b[49m\u001b[43m \u001b[49m\u001b[38;5;241;43m=\u001b[39;49m\u001b[43m \u001b[49m\u001b[38;5;241;43m0.33\u001b[39;49m\u001b[43m,\u001b[49m\u001b[43m          \u001b[49m\n\u001b[0;32m      8\u001b[0m \u001b[43m          \u001b[49m\u001b[43mverbose\u001b[49m\u001b[38;5;241;43m=\u001b[39;49m\u001b[38;5;241;43m1\u001b[39;49m\u001b[43m,\u001b[49m\n\u001b[0;32m      9\u001b[0m \u001b[43m          \u001b[49m\u001b[43mcallbacks\u001b[49m\u001b[38;5;241;43m=\u001b[39;49m\u001b[43m[\u001b[49m\u001b[43mcallback\u001b[49m\u001b[43m,\u001b[49m\u001b[43m \u001b[49m\u001b[43mmc\u001b[49m\u001b[43m]\u001b[49m\u001b[43m)\u001b[49m\n",
      "File \u001b[1;32m~\\anaconda3\\lib\\site-packages\\keras\\utils\\traceback_utils.py:67\u001b[0m, in \u001b[0;36mfilter_traceback.<locals>.error_handler\u001b[1;34m(*args, **kwargs)\u001b[0m\n\u001b[0;32m     65\u001b[0m \u001b[38;5;28;01mexcept\u001b[39;00m \u001b[38;5;167;01mException\u001b[39;00m \u001b[38;5;28;01mas\u001b[39;00m e:  \u001b[38;5;66;03m# pylint: disable=broad-except\u001b[39;00m\n\u001b[0;32m     66\u001b[0m   filtered_tb \u001b[38;5;241m=\u001b[39m _process_traceback_frames(e\u001b[38;5;241m.\u001b[39m__traceback__)\n\u001b[1;32m---> 67\u001b[0m   \u001b[38;5;28;01mraise\u001b[39;00m e\u001b[38;5;241m.\u001b[39mwith_traceback(filtered_tb) \u001b[38;5;28;01mfrom\u001b[39;00m \u001b[38;5;28;01mNone\u001b[39;00m\n\u001b[0;32m     68\u001b[0m \u001b[38;5;28;01mfinally\u001b[39;00m:\n\u001b[0;32m     69\u001b[0m   \u001b[38;5;28;01mdel\u001b[39;00m filtered_tb\n",
      "File \u001b[1;32m~\\AppData\\Local\\Temp\\__autograph_generated_fileobahkvnc.py:15\u001b[0m, in \u001b[0;36mouter_factory.<locals>.inner_factory.<locals>.tf__train_function\u001b[1;34m(iterator)\u001b[0m\n\u001b[0;32m     13\u001b[0m \u001b[38;5;28;01mtry\u001b[39;00m:\n\u001b[0;32m     14\u001b[0m     do_return \u001b[38;5;241m=\u001b[39m \u001b[38;5;28;01mTrue\u001b[39;00m\n\u001b[1;32m---> 15\u001b[0m     retval_ \u001b[38;5;241m=\u001b[39m ag__\u001b[38;5;241m.\u001b[39mconverted_call(ag__\u001b[38;5;241m.\u001b[39mld(step_function), (ag__\u001b[38;5;241m.\u001b[39mld(\u001b[38;5;28mself\u001b[39m), ag__\u001b[38;5;241m.\u001b[39mld(iterator)), \u001b[38;5;28;01mNone\u001b[39;00m, fscope)\n\u001b[0;32m     16\u001b[0m \u001b[38;5;28;01mexcept\u001b[39;00m:\n\u001b[0;32m     17\u001b[0m     do_return \u001b[38;5;241m=\u001b[39m \u001b[38;5;28;01mFalse\u001b[39;00m\n",
      "\u001b[1;31mValueError\u001b[0m: in user code:\n\n    File \"C:\\Users\\jigar\\anaconda3\\lib\\site-packages\\keras\\engine\\training.py\", line 1051, in train_function  *\n        return step_function(self, iterator)\n    File \"C:\\Users\\jigar\\anaconda3\\lib\\site-packages\\keras\\engine\\training.py\", line 1040, in step_function  **\n        outputs = model.distribute_strategy.run(run_step, args=(data,))\n    File \"C:\\Users\\jigar\\anaconda3\\lib\\site-packages\\keras\\engine\\training.py\", line 1030, in run_step  **\n        outputs = model.train_step(data)\n    File \"C:\\Users\\jigar\\anaconda3\\lib\\site-packages\\keras\\engine\\training.py\", line 889, in train_step\n        y_pred = self(x, training=True)\n    File \"C:\\Users\\jigar\\anaconda3\\lib\\site-packages\\keras\\utils\\traceback_utils.py\", line 67, in error_handler\n        raise e.with_traceback(filtered_tb) from None\n\n    ValueError: Exception encountered when calling layer \"dropout_30\" (type Dropout).\n    \n    `rate` must be a scalar or scalar tensor. Received: rate=0\n    \n    Call arguments received by layer \"dropout_30\" (type Dropout):\n      • inputs=tf.Tensor(shape=(None, 32, 32, 2), dtype=float32)\n      • training=True\n"
     ]
    }
   ],
   "source": [
    "batch_size = 64\n",
    "epochs = 2500\n",
    "history = model.fit(train_X, train_Y,\n",
    "          batch_size=batch_size,\n",
    "          epochs=epochs,\n",
    "          #validation_split=.33,\n",
    "          validation_split = 0.33,          \n",
    "          verbose=1,\n",
    "          callbacks=[callback, mc])"
   ]
  },
  {
   "cell_type": "code",
   "execution_count": null,
   "id": "d98cccc0",
   "metadata": {},
   "outputs": [],
   "source": []
  }
 ],
 "metadata": {
  "kernelspec": {
   "display_name": "Python 3 (ipykernel)",
   "language": "python",
   "name": "python3"
  },
  "language_info": {
   "codemirror_mode": {
    "name": "ipython",
    "version": 3
   },
   "file_extension": ".py",
   "mimetype": "text/x-python",
   "name": "python",
   "nbconvert_exporter": "python",
   "pygments_lexer": "ipython3",
   "version": "3.9.12"
  },
  "toc": {
   "base_numbering": 1,
   "nav_menu": {},
   "number_sections": true,
   "sideBar": true,
   "skip_h1_title": false,
   "title_cell": "Table of Contents",
   "title_sidebar": "Contents",
   "toc_cell": false,
   "toc_position": {},
   "toc_section_display": true,
   "toc_window_display": false
  },
  "varInspector": {
   "cols": {
    "lenName": 16,
    "lenType": 16,
    "lenVar": 40
   },
   "kernels_config": {
    "python": {
     "delete_cmd_postfix": "",
     "delete_cmd_prefix": "del ",
     "library": "var_list.py",
     "varRefreshCmd": "print(var_dic_list())"
    },
    "r": {
     "delete_cmd_postfix": ") ",
     "delete_cmd_prefix": "rm(",
     "library": "var_list.r",
     "varRefreshCmd": "cat(var_dic_list()) "
    }
   },
   "types_to_exclude": [
    "module",
    "function",
    "builtin_function_or_method",
    "instance",
    "_Feature"
   ],
   "window_display": false
  }
 },
 "nbformat": 4,
 "nbformat_minor": 5
}
