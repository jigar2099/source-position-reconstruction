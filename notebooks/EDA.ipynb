{
 "cells": [
  {
   "cell_type": "code",
   "execution_count": 1,
   "id": "f15d1875",
   "metadata": {
    "ExecuteTime": {
     "end_time": "2023-05-06T07:33:52.983966Z",
     "start_time": "2023-05-06T07:33:52.073287Z"
    }
   },
   "outputs": [
    {
     "data": {
      "text/html": [
       "<style>.container { width:100% !important; }</style>"
      ],
      "text/plain": [
       "<IPython.core.display.HTML object>"
      ]
     },
     "metadata": {},
     "output_type": "display_data"
    },
    {
     "data": {
      "text/html": [
       "<style>.container { width:100% !important; }</style>"
      ],
      "text/plain": [
       "<IPython.core.display.HTML object>"
      ]
     },
     "metadata": {},
     "output_type": "display_data"
    }
   ],
   "source": [
    "from IPython.display import display, HTML\n",
    "display(HTML(\"<style>.container { width:100% !important; }</style>\"))\n",
    "import sys\n",
    "sys.path.append(\"..\")\n",
    "import numpy as np\n",
    "import matplotlib.pyplot as plt\n",
    "import glob\n",
    "from src.surrounding import surrounding\n",
    "from src.tools import data_merger, multiple_data, get_indices_of_ones, radius_eda"
   ]
  },
  {
   "cell_type": "code",
   "execution_count": 2,
   "id": "cde33128",
   "metadata": {
    "ExecuteTime": {
     "end_time": "2023-05-06T07:34:07.274389Z",
     "start_time": "2023-05-06T07:33:59.190729Z"
    }
   },
   "outputs": [
    {
     "name": "stdout",
     "output_type": "stream",
     "text": [
      "(900, 32, 32) (900, 32, 32)\n",
      "29/29 [==============================] - 3s 16ms/step\n"
     ]
    }
   ],
   "source": [
    "import tensorflow as tf\n",
    "model = tf.keras.models.load_model('../models/noise_7e-3/Unet16_noise_7e-3_mse_lr_1e-4_100_DROPOUT0.h5')\n",
    "\n",
    "test_x = np.load('../DATASETS/noise_7e-3/src/no_indiv_per_test_6oct_1_512_128_064_032_016_SRC_30_exe_30.npy')\n",
    "test_y = np.load('../DATASETS/noise_7e-3/label/no_indiv_per_test_6oct_1_512_128_064_032_016_LABEL_30_exe_30.npy')\n",
    "print(test_x.shape,test_y.shape)\n",
    "predictions = model.predict(test_x)\n",
    "pred_y = predictions.reshape(predictions.shape[0],predictions.shape[1],predictions.shape[2])"
   ]
  },
  {
   "cell_type": "code",
   "execution_count": null,
   "id": "402f2ef8",
   "metadata": {},
   "outputs": [],
   "source": [
    "from tqdm import tqdm\n",
    "init = 4000\n",
    "fin = 40050\n",
    "tot_a = []; mean = []; std = []\n",
    "for s_val in range(1,3):\n",
    "    for rad in range(1,4):\n",
    "        #for i in tqdm(range(test_y.shape[0])):\n",
    "        if rad==1 and s_val==2:\n",
    "            for i in tqdm(range(test_y.shape[0])):\n",
    "                rand_idx = np.random.randint(init,fin,1)[0]\n",
    "                #TOT,AVG,STD = radius_eda(test_y[rand_idx], pred_y[rand_idx], radius=rad, src_num=s_val)\n",
    "                TOT,AVG,STD = radius_eda(test_y[i], pred_y[i], radius=rad, src_num=s_val)\n",
    "                tot_a.append(TOT)\n",
    "                mean.append(AVG)\n",
    "                std.append(STD)\n",
    "                #plt.figure(figsize=(15,5))\n",
    "                #plt.subplot(1, 3, 1)\n",
    "                #plt.hist(TOT,bins=30)\n",
    "                #plt.yscale('log')\n",
    "                #plt.title('total')\n",
    "                #plt.xlabel('Average prediciton error')\n",
    "                #plt.ylabel('counts')\n",
    "\n",
    "                #plt.subplot(1, 3, 2)\n",
    "                #plt.hist(AVG,bins=30)\n",
    "                #plt.yscale('log')\n",
    "                #plt.title('Average')\n",
    "                #plt.xlabel('Error uncertainty')\n",
    "                #plt.ylabel('counts')\n",
    "\n",
    "                #plt.subplot(1, 3, 3)\n",
    "                #plt.hist(STD,bins=30)\n",
    "                #plt.title('Std dev')\n",
    "                #plt.xlabel('Total sources within considered radius')\n",
    "                #plt.ylabel('counts')\n",
    "\n",
    "                plt.savefig(f'Error_analysis_distplot_cent_src_{s_val}_radius_{rad}.png')\n",
    "        else:pass"
   ]
  }
 ],
 "metadata": {
  "kernelspec": {
   "display_name": "Python 3 (ipykernel)",
   "language": "python",
   "name": "python3"
  },
  "language_info": {
   "codemirror_mode": {
    "name": "ipython",
    "version": 3
   },
   "file_extension": ".py",
   "mimetype": "text/x-python",
   "name": "python",
   "nbconvert_exporter": "python",
   "pygments_lexer": "ipython3",
   "version": "3.9.12"
  },
  "toc": {
   "base_numbering": 1,
   "nav_menu": {},
   "number_sections": true,
   "sideBar": true,
   "skip_h1_title": false,
   "title_cell": "Table of Contents",
   "title_sidebar": "Contents",
   "toc_cell": false,
   "toc_position": {},
   "toc_section_display": true,
   "toc_window_display": false
  },
  "varInspector": {
   "cols": {
    "lenName": 16,
    "lenType": 16,
    "lenVar": 40
   },
   "kernels_config": {
    "python": {
     "delete_cmd_postfix": "",
     "delete_cmd_prefix": "del ",
     "library": "var_list.py",
     "varRefreshCmd": "print(var_dic_list())"
    },
    "r": {
     "delete_cmd_postfix": ") ",
     "delete_cmd_prefix": "rm(",
     "library": "var_list.r",
     "varRefreshCmd": "cat(var_dic_list()) "
    }
   },
   "types_to_exclude": [
    "module",
    "function",
    "builtin_function_or_method",
    "instance",
    "_Feature"
   ],
   "window_display": false
  }
 },
 "nbformat": 4,
 "nbformat_minor": 5
}
