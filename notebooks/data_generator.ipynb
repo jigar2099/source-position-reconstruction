{
 "cells": [
  {
   "cell_type": "code",
   "execution_count": 3,
   "id": "2ad84913",
   "metadata": {
    "ExecuteTime": {
     "end_time": "2023-05-03T19:01:14.867775Z",
     "start_time": "2023-05-03T19:01:13.842184Z"
    }
   },
   "outputs": [],
   "source": [
    "from IPython.display import display, HTML\n",
    "display(HTML(\"<style>.container { width:100% !important; }</style>\"))\n",
    "\n",
    "import sys\n",
    "sys.path.append(\"..\")\n",
    "\n",
    "import numpy as np\n",
    "import pandas as pd\n",
    "from src.MC import perlin_noise_grid, single_source_grid, multi_source_grid\n",
    "from tqdm import tqdm"
   ]
  },
  {
   "cell_type": "code",
   "execution_count": 8,
   "id": "1b636e18",
   "metadata": {
    "ExecuteTime": {
     "end_time": "2023-05-03T20:25:03.377488Z",
     "start_time": "2023-05-03T20:05:44.007657Z"
    }
   },
   "outputs": [
    {
     "name": "stderr",
     "output_type": "stream",
     "text": [
      "100%|██████████████████████████████████████████████████████████████████████████████████| 30/30 [19:19<00:00, 38.64s/it]\n"
     ]
    }
   ],
   "source": [
    "num_src = 30\n",
    "examples = 100\n",
    "pixel = 32\n",
    "A_s = 1\n",
    "A_b = 0.0070#0.0010\n",
    "per = True\n",
    "poi = False\n",
    "indiv_noise = False\n",
    "\n",
    "octave = str(6) + \"oct\"\n",
    "oct_seq = \"1_512_128_064_032_016\"\n",
    "typ = \"train\"\n",
    "src_file_name = f\"{typ}_{octave}_{oct_seq}_SRC_{num_src}_exe_{examples}.npy\"\n",
    "label_file_name = f\"{typ}_{octave}_{oct_seq}_LABEL_{num_src}_exe_{examples}.npy\"\n",
    "src_save_path = '../DATASETS/noise_7e-3/src/'\n",
    "label_save_path = '../DATASETS/noise_7e-3/label/'\n",
    "\n",
    "s_lst = []\n",
    "l_lst = []\n",
    "for i in tqdm(range(num_src)):\n",
    "    for j in range(examples):\n",
    "        if i == 0:\n",
    "            s, l = perlin_noise_grid(pixel, A_s, A_b)\n",
    "            #plot_src_label(s, l)\n",
    "            s_lst.append(s)\n",
    "            l_lst.append(l)\n",
    "        elif i > 0:\n",
    "\n",
    "            slg_s, slg_l = single_source_grid(pixel, A_s, A_b, cov=1.39, edge=1,\n",
    "                                              perlin=per, poisson=poi, individual_bg=indiv_noise)\n",
    "            mul_s, mul_l = multi_source_grid(i, slg_s, slg_l, pixel, A_s, A_b, cov=1.39, edge=1, pow_idx=1.3,\n",
    "                                             perlin=per, poisson=poi, individual_bg=indiv_noise, randomness=True)\n",
    "            #plot_src_label(mul_s, mul_l)\n",
    "            s_lst.append(mul_s)\n",
    "            l_lst.append(mul_l)\n",
    "SOURCE = np.array(s_lst)\n",
    "LABEL = np.array(l_lst)\n",
    "\n",
    "if indiv_noise is True:\n",
    "    if per is True and poi is True:\n",
    "        src_file_name = 'indiv_per_poi_' + src_file_name\n",
    "        label_file_name = 'indiv_per_poi_' + label_file_name\n",
    "    elif per is False and poi is True:\n",
    "        src_file_name = 'indiv_poi_' + src_file_name\n",
    "        label_file_name = 'indiv_poi_' + label_file_name\n",
    "    elif per is True and poi is False:\n",
    "        src_file_name = 'indiv_per_' + src_file_name\n",
    "        label_file_name = 'indiv_per_' + label_file_name\n",
    "    elif per is False and poi is False:\n",
    "        src_file_name = 'indiv_noiseless_' + src_file_name\n",
    "        label_file_name = 'indiv_noiseless_' + label_file_name\n",
    "elif indiv_noise is False:\n",
    "    if per is True and poi is True:\n",
    "        src_file_name = 'no_indiv_per_poi_' + src_file_name\n",
    "        label_file_name = 'no_indiv_per_poi_' + label_file_name\n",
    "    elif per is False and poi is True:\n",
    "        src_file_name = 'no_indiv_poi_' + src_file_name\n",
    "        label_file_name = 'no_indiv_poi_' + label_file_name\n",
    "    elif per is True and poi is False:\n",
    "        src_file_name = 'no_indiv_per_' + src_file_name\n",
    "        label_file_name = 'no_indiv_per_' + label_file_name\n",
    "    elif per is False and poi is False:\n",
    "        src_file_name = 'no_indiv_noiseless_' + src_file_name\n",
    "        label_file_name = 'no_indiv_noiseless_' + label_file_name\n",
    "\n",
    "np.save(src_save_path+src_file_name, SOURCE)\n",
    "np.save(label_save_path+label_file_name, LABEL)"
   ]
  },
  {
   "cell_type": "code",
   "execution_count": null,
   "id": "0b5b2d87",
   "metadata": {
    "ExecuteTime": {
     "end_time": "2023-05-03T19:01:38.474916Z",
     "start_time": "2023-05-03T19:01:38.474916Z"
    }
   },
   "outputs": [],
   "source": [
    "print(SOURCE.shape,LABEL.shape)"
   ]
  },
  {
   "cell_type": "code",
   "execution_count": null,
   "id": "12ce4d6f",
   "metadata": {},
   "outputs": [],
   "source": []
  }
 ],
 "metadata": {
  "kernelspec": {
   "display_name": "Python 3 (ipykernel)",
   "language": "python",
   "name": "python3"
  },
  "language_info": {
   "codemirror_mode": {
    "name": "ipython",
    "version": 3
   },
   "file_extension": ".py",
   "mimetype": "text/x-python",
   "name": "python",
   "nbconvert_exporter": "python",
   "pygments_lexer": "ipython3",
   "version": "3.9.12"
  },
  "toc": {
   "base_numbering": 1,
   "nav_menu": {},
   "number_sections": true,
   "sideBar": true,
   "skip_h1_title": false,
   "title_cell": "Table of Contents",
   "title_sidebar": "Contents",
   "toc_cell": false,
   "toc_position": {},
   "toc_section_display": true,
   "toc_window_display": false
  },
  "varInspector": {
   "cols": {
    "lenName": 16,
    "lenType": 16,
    "lenVar": 40
   },
   "kernels_config": {
    "python": {
     "delete_cmd_postfix": "",
     "delete_cmd_prefix": "del ",
     "library": "var_list.py",
     "varRefreshCmd": "print(var_dic_list())"
    },
    "r": {
     "delete_cmd_postfix": ") ",
     "delete_cmd_prefix": "rm(",
     "library": "var_list.r",
     "varRefreshCmd": "cat(var_dic_list()) "
    }
   },
   "types_to_exclude": [
    "module",
    "function",
    "builtin_function_or_method",
    "instance",
    "_Feature"
   ],
   "window_display": false
  }
 },
 "nbformat": 4,
 "nbformat_minor": 5
}
